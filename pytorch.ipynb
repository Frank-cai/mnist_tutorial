{
 "cells": [
  {
   "cell_type": "markdown",
   "metadata": {},
   "source": [
    "# Pytorch Tutorial"
   ]
  },
  {
   "cell_type": "markdown",
   "metadata": {},
   "source": [
    "Pytorch is a popular deep learning framework and it's easy to get started."
   ]
  },
  {
   "cell_type": "code",
   "execution_count": 1,
   "metadata": {},
   "outputs": [],
   "source": [
    "import torch\n",
    "import torch.nn as nn\n",
    "import torch.utils.data as data\n",
    "import torchvision\n",
    "import torchvision.transforms as transforms\n",
    "from tqdm import tqdm\n",
    "import time\n",
    "\n",
    "BATCH_SIZE = 128\n",
    "NUM_EPOCHS = 10"
   ]
  },
  {
   "cell_type": "markdown",
   "metadata": {},
   "source": [
    "First, we read the mnist data, preprocess them and encapsulate them into dataloader form."
   ]
  },
  {
   "cell_type": "code",
   "execution_count": 2,
   "metadata": {},
   "outputs": [],
   "source": [
    "# preprocessing\n",
    "normalize = transforms.Normalize(mean=[.5], std=[.5])\n",
    "transform = transforms.Compose([transforms.ToTensor(), normalize])\n",
    "\n",
    "# download and load the data\n",
    "train_dataset = torchvision.datasets.MNIST(root='./mnist/', train=True, transform=transform, download=True)\n",
    "test_dataset = torchvision.datasets.MNIST(root='./mnist/', train=False, transform=transform, download=False)\n",
    "\n",
    "# encapsulate them into dataloader form\n",
    "train_loader = data.DataLoader(train_dataset, batch_size=BATCH_SIZE, shuffle=True, drop_last=True)\n",
    "test_loader = data.DataLoader(test_dataset, batch_size=BATCH_SIZE, shuffle=False, drop_last=True)"
   ]
  },
  {
   "cell_type": "markdown",
   "metadata": {},
   "source": [
    "Then, we define the model, object function and optimizer that we use to classify."
   ]
  },
  {
   "cell_type": "code",
   "execution_count": 3,
   "metadata": {},
   "outputs": [
    {
     "name": "stdout",
     "output_type": "stream",
     "text": [
      "60000\n"
     ]
    }
   ],
   "source": [
    "from torch.autograd import Variable\n",
    "import torch.nn as nn\n",
    "import torch.nn.functional as F\n",
    "\n",
    "class SimpleNet(nn.Module):\n",
    "# TODO:define model\n",
    "    def __init__(self):\n",
    "        super(SimpleNet, self).__init__()\n",
    "        self.conv1 = nn.Conv2d(1, 10, kernel_size=5)#输入和输出通道数分别为1和10\n",
    "        self.conv2 = nn.Conv2d(10, 20, kernel_size=5)#输入和输出通道数分别为10和20\n",
    "        self.conv2_drop = nn.Dropout2d()#随机选择输入的信道，将其设为0\n",
    "        self.fc1 = nn.Linear(320, 50)#输入的向量大小和输出的大小分别为320和50\n",
    "        self.fc2 = nn.Linear(50, 10)\n",
    "        \n",
    "    def forward(self, x):\n",
    "        x = F.relu(F.max_pool2d(self.conv1(x), 2))#conv->max_pool->relu\n",
    "        x = F.relu(F.max_pool2d(self.conv2_drop(self.conv2(x)), 2))#conv->dropout->max_pool->relu\n",
    "        x = x.view(-1, 320)\n",
    "        x = F.relu(self.fc1(x))#fc->relu\n",
    "        x = F.dropout(x, training=self.training)#dropout\n",
    "        x = self.fc2(x)\n",
    "        return F.log_softmax(x,dim=0)\n",
    "    \n",
    "model = SimpleNet()\n",
    "\n",
    "# TODO:define loss function and optimiter\n",
    "import torch.optim as optim\n",
    "\n",
    "criterion = nn.CrossEntropyLoss()\n",
    "optimizer = optim.SGD(model.parameters(), lr=0.001, momentum=0.9)\n",
    "print (len(train_dataset))"
   ]
  },
  {
   "cell_type": "markdown",
   "metadata": {},
   "source": [
    "Next, we can start to train and evaluate!"
   ]
  },
  {
   "cell_type": "code",
   "execution_count": 5,
   "metadata": {
    "scrolled": true
   },
   "outputs": [
    {
     "name": "stderr",
     "output_type": "stream",
     "text": [
      "100%|██████████| 468/468 [00:24<00:00, 19.21it/s]\n",
      "100%|██████████| 468/468 [00:24<00:00, 20.10it/s]\n",
      "100%|██████████| 468/468 [00:24<00:00, 19.07it/s]\n",
      "100%|██████████| 468/468 [00:24<00:00, 19.06it/s]\n",
      "100%|██████████| 468/468 [00:24<00:00, 18.92it/s]\n",
      "100%|██████████| 468/468 [00:24<00:00, 18.65it/s]\n",
      "100%|██████████| 468/468 [00:24<00:00, 18.81it/s]\n",
      "100%|██████████| 468/468 [00:25<00:00, 18.62it/s]\n",
      "100%|██████████| 468/468 [00:25<00:00, 18.66it/s]\n",
      "100%|██████████| 468/468 [00:25<00:00, 18.65it/s]\n",
      "  0%|          | 0/468 [00:00<?, ?it/s]/Users/Frankcai/anaconda3/lib/python3.7/site-packages/ipykernel_launcher.py:30: UserWarning: invalid index of a 0-dim tensor. This will be an error in PyTorch 0.5. Use tensor.item() to convert a 0-dim tensor to a Python number\n",
      "  1%|          | 3/468 [00:00<00:17, 26.60it/s]"
     ]
    },
    {
     "name": "stdout",
     "output_type": "stream",
     "text": [
      "Finished Training\n"
     ]
    },
    {
     "name": "stderr",
     "output_type": "stream",
     "text": [
      "100%|██████████| 468/468 [00:12<00:00, 36.79it/s]\n",
      "100%|██████████| 468/468 [00:12<00:00, 38.55it/s]\n",
      "100%|██████████| 468/468 [00:12<00:00, 38.41it/s]\n",
      "100%|██████████| 468/468 [00:12<00:00, 38.57it/s]\n",
      "100%|██████████| 468/468 [00:12<00:00, 37.98it/s]\n",
      "100%|██████████| 468/468 [00:12<00:00, 38.33it/s]\n",
      "100%|██████████| 468/468 [00:12<00:00, 38.90it/s]\n",
      "100%|██████████| 468/468 [00:12<00:00, 38.15it/s]\n",
      "100%|██████████| 468/468 [00:12<00:00, 38.92it/s]\n",
      "100%|██████████| 468/468 [00:12<00:00, 38.76it/s]\n",
      "  0%|          | 0/78 [00:00<?, ?it/s]/Users/Frankcai/anaconda3/lib/python3.7/site-packages/ipykernel_launcher.py:39: UserWarning: invalid index of a 0-dim tensor. This will be an error in PyTorch 0.5. Use tensor.item() to convert a 0-dim tensor to a Python number\n",
      "100%|██████████| 78/78 [00:02<00:00, 38.26it/s]\n",
      "100%|██████████| 78/78 [00:02<00:00, 38.22it/s]\n",
      "100%|██████████| 78/78 [00:02<00:00, 38.31it/s]\n",
      "100%|██████████| 78/78 [00:02<00:00, 37.74it/s]\n",
      "100%|██████████| 78/78 [00:02<00:00, 38.08it/s]\n",
      "100%|██████████| 78/78 [00:02<00:00, 38.08it/s]\n",
      "100%|██████████| 78/78 [00:02<00:00, 37.61it/s]\n",
      "100%|██████████| 78/78 [00:02<00:00, 38.07it/s]\n",
      "100%|██████████| 78/78 [00:02<00:00, 38.03it/s]\n",
      "100%|██████████| 78/78 [00:02<00:00, 37.89it/s]\n"
     ]
    }
   ],
   "source": [
    "# train and evaluate\n",
    "for epoch in range(NUM_EPOCHS):\n",
    "    for images, labels in tqdm(train_loader):\n",
    "        # TODO:forward + backward + optimize\n",
    "        # wrap them in Variable\n",
    "        images, labels = Variable(images), Variable(labels)\n",
    "\n",
    "        # zero the parameter gradients\n",
    "        optimizer.zero_grad()\n",
    "\n",
    "        # forward + backward + optimize\n",
    "        outputs = model(images)\n",
    "        loss = criterion(outputs, labels)\n",
    "        loss.backward()\n",
    "        optimizer.step()\n",
    "\n",
    "print('Finished Training')\n",
    "        \n",
    "    # evaluate\n",
    "eval_acc = 0.\n",
    "eval1_acc = 0.\n",
    "for epoch in range(NUM_EPOCHS):\n",
    "    model.eval()\n",
    "\n",
    "    for images, labels in tqdm(train_loader):\n",
    "        images, labels = Variable(images), Variable(labels)\n",
    "        out = model(images)\n",
    "        pred = torch.max(out, 1)[1]\n",
    "        num_correct = (pred == labels).sum()\n",
    "        eval_acc += num_correct.data[0]\n",
    "        \n",
    "for epoch in range(NUM_EPOCHS):\n",
    "    model.eval()\n",
    "    for images, labels in tqdm(test_loader):\n",
    "        images, labels = Variable(images), Variable(labels)\n",
    "        out = model(images)\n",
    "        pred = torch.max(out, 1)[1]\n",
    "        num_correct = (pred == labels).sum()\n",
    "        eval1_acc += num_correct.data[0]\n",
    "    \n"
   ]
  },
  {
   "cell_type": "markdown",
   "metadata": {},
   "source": [
    "Q5:\n",
    "Please print the training and testing accuracy."
   ]
  },
  {
   "cell_type": "code",
   "execution_count": 11,
   "metadata": {},
   "outputs": [
    {
     "name": "stdout",
     "output_type": "stream",
     "text": [
      "Training ACCURACY:98.000\n",
      "Testing ACCURACY:98.000\n"
     ]
    }
   ],
   "source": [
    "print('Training ACCURACY:%.3f'%(100.*eval_acc/len(train_dataset)/10))\n",
    "print('Testing ACCURACY:%.3f'%(100.*eval1_acc/len(test_dataset)/10))"
   ]
  },
  {
   "cell_type": "code",
   "execution_count": null,
   "metadata": {},
   "outputs": [],
   "source": []
  }
 ],
 "metadata": {
  "kernelspec": {
   "display_name": "Python 3",
   "language": "python",
   "name": "python3"
  },
  "language_info": {
   "codemirror_mode": {
    "name": "ipython",
    "version": 3
   },
   "file_extension": ".py",
   "mimetype": "text/x-python",
   "name": "python",
   "nbconvert_exporter": "python",
   "pygments_lexer": "ipython3",
   "version": "3.7.0"
  }
 },
 "nbformat": 4,
 "nbformat_minor": 2
}
